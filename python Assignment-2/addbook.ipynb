{
 "cells": [
  {
   "cell_type": "code",
   "execution_count": 1,
   "id": "c878c514-e3bc-4969-b220-1772c77fb9f1",
   "metadata": {},
   "outputs": [],
   "source": [
    "from tkinter import *\n",
    "from tkinter import messagebox\n",
    "import sqlite3\n",
    "con=sqlite3.connect('library.db')\n",
    "cur = con.cursor()\n",
    "import tkinter as tk"
   ]
  },
  {
   "cell_type": "code",
   "execution_count": 1,
   "id": "a2adc822-9a0f-48ec-9e49-5288c5846812",
   "metadata": {},
   "outputs": [
    {
     "ename": "NameError",
     "evalue": "name 'Toplevel' is not defined",
     "output_type": "error",
     "traceback": [
      "\u001b[1;31m---------------------------------------------------------------------------\u001b[0m",
      "\u001b[1;31mNameError\u001b[0m                                 Traceback (most recent call last)",
      "Cell \u001b[1;32mIn[1], line 1\u001b[0m\n\u001b[1;32m----> 1\u001b[0m \u001b[38;5;28;01mclass\u001b[39;00m \u001b[38;5;21;01mAddBook\u001b[39;00m(Toplevel):\n\u001b[0;32m      2\u001b[0m     \u001b[38;5;28;01mdef\u001b[39;00m \u001b[38;5;21m__init__\u001b[39m(\u001b[38;5;28mself\u001b[39m):\n\u001b[0;32m      3\u001b[0m         Toplevel\u001b[38;5;241m.\u001b[39m\u001b[38;5;21m__init__\u001b[39m(\u001b[38;5;28mself\u001b[39m)\n",
      "\u001b[1;31mNameError\u001b[0m: name 'Toplevel' is not defined"
     ]
    }
   ],
   "source": [
    "\n",
    "class AddBook(Toplevel):\n",
    "    def __init__(self):\n",
    "        Toplevel.__init__(self)\n",
    "        self.geometry(\"650x750+550+200\")\n",
    "        self.title(\"Add Book\")\n",
    "        self.resizable(False, False)\n",
    "\n",
    "        ##################################################### Frames ############################################\n",
    "\n",
    "        # Top Frame\n",
    "        self.topFrame = Frame(self, height=150, bg=\"white\")\n",
    "        self.topFrame.pack(fill=X)\n",
    "\n",
    "        # Bottom Frame\n",
    "        self.bottomFrame = Frame(self, height=600, bg=\"#fcc324\")\n",
    "        self.bottomFrame.pack(fill=X)\n",
    "\n",
    "        # Heading and Image\n",
    "        self.top_image = PhotoImage(file=\"images/new_add_book.png\")\n",
    "        top_image_lbl = Label(self.topFrame, image=self.top_image, bg=\"white\")\n",
    "        top_image_lbl.place(x=120, y=10)\n",
    "\n",
    "        heading = Label(self.topFrame, text=\"Add Book\", font=\"arial 22 bold\", fg=\"#003f8a\", bg=\"white\")\n",
    "        heading.place(x=290, y=60)\n",
    "\n",
    "        ######################################################## Entries and label ######################################\n",
    "\n",
    "        # Name\n",
    "        self.lbl_name = Label(self.bottomFrame, text=\"Name :\", font='arial 15 bold', fg=\"white\", bg=\"#fcc324\")\n",
    "        self.lbl_name.place(x=40, y=40)\n",
    "        self.entry_name = Entry(self.bottomFrame, width=30, bd=4)\n",
    "        self.entry_name.insert(0,\"Please Enter Name:\")\n",
    "        self.entry_name.place(x=150, y=45)\n",
    "\n",
    "        # Author\n",
    "        self.lbl_author = Label(self.bottomFrame, text=\"Author :\", font='arial 15 bold', fg=\"white\", bg=\"#fcc324\")\n",
    "        self.lbl_author.place(x=40, y=80)\n",
    "        self.entry_author = Entry(self.bottomFrame, width=30, bd=4)\n",
    "        self.entry_author.insert(0, \"Please Enter an Author name:\")\n",
    "        self.entry_author.place(x=150, y=85)\n",
    "\n",
    "        # Page\n",
    "        self.lbl_page = Label(self.bottomFrame, text=\"Page :\", font='arial 15 bold', fg=\"white\", bg=\"#fcc324\")\n",
    "        self.lbl_page.place(x=40, y=120)\n",
    "        self.entry_page = Entry(self.bottomFrame, width=30, bd=4)\n",
    "        self.entry_page.insert(0, \"Please Enter page size:\")\n",
    "        self.entry_page.place(x=150, y=125)\n",
    "\n",
    "        # Language\n",
    "        self.lbl_language = Label(self.bottomFrame, text=\"Language :\", font='arial 15 bold', fg=\"white\", bg=\"#fcc324\")\n",
    "        self.lbl_language.place(x=40, y=160)\n",
    "        self.entry_language = Entry(self.bottomFrame, width=30, bd=4)\n",
    "        self.entry_language.insert(0, \"Please Enter Language:\")\n",
    "        self.entry_language.place(x=150, y=165)\n",
    "\n",
    "        # Button\n",
    "        button = Button(self.bottomFrame, text=\"Add book\", command=self.Addbook)\n",
    "        button.place(x=270, y=200)\n",
    "\n",
    "    def Addbook(self):\n",
    "        name=self.entry_name.get()\n",
    "        author= self.entry_author.get()\n",
    "        page=self.entry_page.get()\n",
    "        language=self.entry_language.get()\n",
    "\n",
    "        if (name and author and page and language !=\"\"): \n",
    "            try:\n",
    "                query =\"INSERT INTO 'Books' (book_name,book_author,book_page,book_language) VALUES(?,?,?,?)\"\n",
    "                cur.execute(query,(name,author,page,language))\n",
    "                con.commit()\n",
    "                messagebox.showinfo(\"Success\", \"Successfully added to database\",icon='info')\n",
    "\n",
    "            except:\n",
    "                messagebox.showerror(\"Error\",\"Cannot add to database\",icon=\"warning\")\n",
    "        else:\n",
    "            messagebox.showerror(\"Error\",\"Fields cannot be empty\",icon=\"warning\")"
   ]
  },
  {
   "cell_type": "code",
   "execution_count": null,
   "id": "3f403576-c474-4d35-afab-ef2c22df1ea5",
   "metadata": {},
   "outputs": [],
   "source": []
  },
  {
   "cell_type": "code",
   "execution_count": null,
   "id": "aef2833a-86c0-46a8-aca3-7ee1d8673b1f",
   "metadata": {},
   "outputs": [],
   "source": []
  }
 ],
 "metadata": {
  "kernelspec": {
   "display_name": "Python 3 (ipykernel)",
   "language": "python",
   "name": "python3"
  },
  "language_info": {
   "codemirror_mode": {
    "name": "ipython",
    "version": 3
   },
   "file_extension": ".py",
   "mimetype": "text/x-python",
   "name": "python",
   "nbconvert_exporter": "python",
   "pygments_lexer": "ipython3",
   "version": "3.11.7"
  }
 },
 "nbformat": 4,
 "nbformat_minor": 5
}
