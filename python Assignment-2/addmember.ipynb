{
 "cells": [
  {
   "cell_type": "code",
   "execution_count": 1,
   "id": "a1eaa58b-891c-4f9a-bf3d-83f10ccd01ea",
   "metadata": {},
   "outputs": [],
   "source": [
    "from tkinter import *\n",
    "from tkinter import messagebox\n",
    "import sqlite3\n",
    "con=sqlite3.connect('library.db')\n",
    "cur = con.cursor()\n",
    "import tkinter as tk"
   ]
  },
  {
   "cell_type": "code",
   "execution_count": 2,
   "id": "416fc040-5251-40b8-919e-64fb03e499a3",
   "metadata": {},
   "outputs": [],
   "source": [
    "\n",
    "class AddMember(Toplevel):\n",
    "    def __init__(self):\n",
    "        Toplevel.__init__(self)\n",
    "        self.geometry(\"650x750+550+200\")\n",
    "        self.title(\"Add Member\")\n",
    "        self.resizable(False, False)\n",
    "\n",
    "        ##################################################### Frames ############################################\n",
    "\n",
    "        # Top Frame\n",
    "        self.topFrame = Frame(self, height=150, bg=\"white\")\n",
    "        self.topFrame.pack(fill=X)\n",
    "\n",
    "        # Bottom Frame\n",
    "        self.bottomFrame = Frame(self, height=600, bg=\"#fcc324\")\n",
    "        self.bottomFrame.pack(fill=X)\n",
    "\n",
    "        # Heading and Image\n",
    "        self.top_image = PhotoImage(file=\"images/Add_members.png\")\n",
    "        top_image_lbl = Label(self.topFrame, image=self.top_image, bg=\"white\")\n",
    "        top_image_lbl.place(x=120, y=10)\n",
    "\n",
    "        heading = Label(self.topFrame, text=\"Add Person\", font=\"arial 22 bold\", fg=\"#003f8a\", bg=\"white\")\n",
    "        heading.place(x=290, y=60)\n",
    "\n",
    "        ######################################################## Entries and label ######################################\n",
    "\n",
    "        # Member Name\n",
    "        self.lbl_name = Label(self.bottomFrame, text=\"Name :\", font='arial 15 bold', fg=\"white\", bg=\"#fcc324\")\n",
    "        self.lbl_name.place(x=40, y=40)\n",
    "        self.entry_name = Entry(self.bottomFrame, width=30, bd=4)\n",
    "        self.entry_name.insert(0, \"Please Enter a Book name:\")\n",
    "        self.entry_name.place(x=150, y=45)\n",
    "\n",
    "        # Phone\n",
    "        self.lbl_phone = Label(self.bottomFrame, text=\"phone :\", font='arial 15 bold', fg=\"white\", bg=\"#fcc324\")\n",
    "        self.lbl_phone.place(x=40, y=80)\n",
    "        self.entry_phone = Entry(self.bottomFrame, width=30, bd=4)\n",
    "        self.entry_phone.insert(0, \"Please Enter an Phone Number:\")\n",
    "        self.entry_phone.place(x=150, y=85)\n",
    "        # Button\n",
    "        button = Button(self.bottomFrame, text=\"Add Member\", command=self.addMember)\n",
    "        button.place(x=270, y=120)\n",
    "\n",
    "    def addMember(self):\n",
    "        name=self.entry_name.get()\n",
    "        phone= self.entry_phone.get()\n",
    "        if (name and phone !=\"\"): \n",
    "            try:\n",
    "                query =\"INSERT INTO 'members' (member_name, member_phone) VALUES(?,?)\"\n",
    "                cur.execute(query,(name,phone))\n",
    "                con.commit()\n",
    "                messagebox.showinfo(\"Success\", \"Successfully added to database\",icon='info')\n",
    "\n",
    "            except:\n",
    "                messagebox.showerror(\"Error\",\"Cannot add to database\",icon=\"warning\")\n",
    "        else:\n",
    "            messagebox.showerror(\"Error\",\"Fields cannot be empty\",icon=\"warning\")"
   ]
  },
  {
   "cell_type": "code",
   "execution_count": null,
   "id": "d2783f67-4ffc-44f2-bf0c-12868273ea7c",
   "metadata": {},
   "outputs": [],
   "source": []
  }
 ],
 "metadata": {
  "kernelspec": {
   "display_name": "Python 3 (ipykernel)",
   "language": "python",
   "name": "python3"
  },
  "language_info": {
   "codemirror_mode": {
    "name": "ipython",
    "version": 3
   },
   "file_extension": ".py",
   "mimetype": "text/x-python",
   "name": "python",
   "nbconvert_exporter": "python",
   "pygments_lexer": "ipython3",
   "version": "3.11.7"
  }
 },
 "nbformat": 4,
 "nbformat_minor": 5
}
