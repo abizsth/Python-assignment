{
 "cells": [
  {
   "cell_type": "code",
   "execution_count": 1,
   "id": "15977bfd-12df-4f66-b0c0-2f387a8fb9c7",
   "metadata": {},
   "outputs": [
    {
     "name": "stdout",
     "output_type": "stream",
     "text": [
      "importing Jupyter notebook from addbook.ipynb\n",
      "importing Jupyter notebook from addmember.ipynb\n",
      "importing Jupyter notebook from giveBook.ipynb\n"
     ]
    }
   ],
   "source": [
    "\n",
    "\n",
    "from tkinter import *\n",
    "from tkinter import ttk\n",
    "import sqlite3\n",
    "import import_ipynb\n",
    "import addbook ,addmember,giveBook\n",
    "con=sqlite3.connect('library.db')\n",
    "cur = con.cursor()\n",
    "from tkinter import messagebox"
   ]
  },
  {
   "cell_type": "code",
   "execution_count": 2,
   "id": "146f8e7f-6758-4ff8-a029-d0e2f5fcb145",
   "metadata": {},
   "outputs": [],
   "source": [
    "class ReturnBook(Toplevel):\n",
    "    def __init__(self):\n",
    "        Toplevel.__init__(self)\n",
    "        self.geometry(\"650x750+550+200\")\n",
    "        self.title(\"Return Book\")\n",
    "        self.resizable(False, False)\n",
    "\n",
    "        query = \"SELECT * FROM books WHERE book_status=1\"\n",
    "        books = cur.execute(query).fetchall()\n",
    "        book_list = []\n",
    "        for book in books:\n",
    "            book_list.append(str(book[0]) + \"-\" + book[1])\n",
    "        # Top Frame\n",
    "        self.topFrame = Frame(self, height=150, bg=\"white\")\n",
    "        self.topFrame.pack(fill=X)\n",
    "\n",
    "        # Bottom Frame\n",
    "        self.bottomFrame = Frame(self, height=600, bg=\"#fcc324\")\n",
    "        self.bottomFrame.pack(fill=X)\n",
    "\n",
    "        # Heading and Image\n",
    "        self.top_image = PhotoImage(file=\"images/lq30rei8.png\")\n",
    "        top_image_lbl = Label(self.topFrame, image=self.top_image, bg=\"white\")\n",
    "        top_image_lbl.place(x=120, y=10)\n",
    "\n",
    "        heading = Label(self.topFrame, text=\"Return a Book?\", font=\"arial 22 bold\", fg=\"#003f8a\", bg=\"white\")\n",
    "        heading.place(x=290, y=60)\n",
    "\n",
    "        # Book Name\n",
    "        self.book_name = StringVar()\n",
    "        self.lbl_name = Label(self.bottomFrame, text=\"Book name\", font='arial 15 bold', fg=\"white\", bg=\"#fcc324\")\n",
    "        self.lbl_name.place(x=40, y=40)\n",
    "        self.combo_name = ttk.Combobox(self.bottomFrame, textvariable=self.book_name)\n",
    "        self.combo_name['values'] = book_list\n",
    "        self.combo_name.place(x=200, y=45)\n",
    "\n",
    "        # Button\n",
    "        button = Button(self.bottomFrame, text=\"Return\", command=self.Returnbook)\n",
    "        button.place(x=220, y=120)\n",
    "\n",
    "    def Returnbook(self):\n",
    "        book_name = self.book_name.get()\n",
    "        self.book_id = book_name.split(\"-\")[0]\n",
    "\n",
    "        if book_name:\n",
    "            try:\n",
    "                # Step 1: Delete the record from 'borrows' table\n",
    "                query = \"DELETE FROM 'borrows' WHERE bbook_id=?\"\n",
    "                cur.execute(query, (self.book_id.split(\"-\")[0]))\n",
    "                con.commit()\n",
    "\n",
    "                # Step 2: Update the book status in 'books' table to make it available (0 means available)\n",
    "                cur.execute(\"UPDATE books SET book_status=? WHERE book_id=?\", (0, self.book_id))\n",
    "                con.commit()\n",
    "\n",
    "                messagebox.showinfo(\"Success\", \"Book has been returned and is now available for borrowing.\", icon='info')\n",
    "\n",
    "            except Exception as e:\n",
    "                messagebox.showerror(\"Error\", f\"Can't update database: {e}\", icon=\"warning\")\n",
    "        else:\n",
    "            messagebox.showerror(\"Error\", \"Fields cannot be empty\", icon=\"warning\")\n"
   ]
  },
  {
   "cell_type": "code",
   "execution_count": null,
   "id": "3d7f44b0-ab6f-4dbd-b85b-0d285609ea39",
   "metadata": {},
   "outputs": [],
   "source": []
  }
 ],
 "metadata": {
  "kernelspec": {
   "display_name": "Python 3 (ipykernel)",
   "language": "python",
   "name": "python3"
  },
  "language_info": {
   "codemirror_mode": {
    "name": "ipython",
    "version": 3
   },
   "file_extension": ".py",
   "mimetype": "text/x-python",
   "name": "python",
   "nbconvert_exporter": "python",
   "pygments_lexer": "ipython3",
   "version": "3.11.7"
  }
 },
 "nbformat": 4,
 "nbformat_minor": 5
}
