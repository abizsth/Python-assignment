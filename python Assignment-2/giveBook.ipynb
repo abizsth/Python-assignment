{
 "cells": [
  {
   "cell_type": "code",
   "execution_count": 1,
   "id": "62c1da63-d555-4494-bd4a-3d8d5f435c2a",
   "metadata": {},
   "outputs": [
    {
     "name": "stdout",
     "output_type": "stream",
     "text": [
      "importing Jupyter notebook from addbook.ipynb\n",
      "importing Jupyter notebook from addmember.ipynb\n",
      "importing Jupyter notebook from giveBook.ipynb\n"
     ]
    }
   ],
   "source": [
    "\n",
    "\n",
    "from tkinter import *\n",
    "from tkinter import ttk\n",
    "import sqlite3\n",
    "import import_ipynb\n",
    "import addbook ,addmember,giveBook\n",
    "con=sqlite3.connect('library.db')\n",
    "cur = con.cursor()\n",
    "from tkinter import messagebox"
   ]
  },
  {
   "cell_type": "code",
   "execution_count": 2,
   "id": "b988ef1a-9d8c-42d3-9467-7b15a4dee2f4",
   "metadata": {},
   "outputs": [],
   "source": [
    "\n",
    "class GiveBook(Toplevel):\n",
    "    def __init__(self):\n",
    "        Toplevel.__init__(self)\n",
    "        self.geometry(\"650x750+550+200\")\n",
    "        self.title(\"Lend Book\")\n",
    "        self.resizable(False , False)\n",
    "        query  = \"SELECT * FROM books WHERE book_status=0\"\n",
    "        books=cur.execute(query).fetchall()\n",
    "        book_list=[]\n",
    "        for book in books:\n",
    "            book_list.append(str(book[0])+\"-\"+book[1])\n",
    "\n",
    "        query2=\"SELECT * FROM members\"\n",
    "        members=cur.execute(query2).fetchall()\n",
    "        member_list=[]\n",
    "        for member in members: \n",
    "            member_list.append(str(member[0])+\"-\"+member[1])\n",
    "        ##################################################### Frames ############################################\n",
    "\n",
    "        # Top Frame\n",
    "        self.topFrame = Frame(self, height=150, bg=\"white\")\n",
    "        self.topFrame.pack(fill=X)\n",
    "\n",
    "        # Bottom Frame\n",
    "        self.bottomFrame = Frame(self, height=600, bg=\"#fcc324\")\n",
    "        self.bottomFrame.pack(fill=X)\n",
    "\n",
    "        # Heading and Image\n",
    "        self.top_image = PhotoImage(file=\"images/lq30rei8.png\")\n",
    "        top_image_lbl = Label(self.topFrame, image=self.top_image, bg=\"white\")\n",
    "        top_image_lbl.place(x=120, y=10)\n",
    "\n",
    "        heading = Label(self.topFrame, text=\"Lend a Book\", font=\"arial 22 bold\", fg=\"#003f8a\", bg=\"white\")\n",
    "        heading.place(x=290, y=60)\n",
    "\n",
    "        ######################################################## Entries and label ######################################\n",
    "\n",
    "        # Member Name\n",
    "        self.book_name=StringVar()\n",
    "        self.lbl_name = Label(self.bottomFrame, text=\"Book name \", font='arial 15 bold', fg=\"white\", bg=\"#fcc324\")\n",
    "        self.lbl_name.place(x=40, y=40)\n",
    "        self.combo_name=ttk.Combobox(self.bottomFrame ,textvariable=self.book_name)\n",
    "        self.combo_name['values']=book_list\n",
    "        self.combo_name.place(x=200,y=45)\n",
    "        \n",
    "        # Phone\n",
    "        self.member_name=StringVar()\n",
    "        self.lbl_phone = Label(self.bottomFrame, text=\"Member Name \", font='arial 15 bold', fg=\"white\", bg=\"#fcc324\")\n",
    "        self.lbl_phone.place(x=40, y=80)\n",
    "        self.combo_member=ttk.Combobox(self.bottomFrame ,textvariable=self.member_name)\n",
    "        self.combo_member['values']=member_list\n",
    "        self.combo_member.place(x=200,y=85)\n",
    "\n",
    "        # Button\n",
    "        button = Button(self.bottomFrame, text=\"Lend Book\",command=self.lendBook)\n",
    "        button.place(x=220, y=120)\n",
    "    def lendBook(self): \n",
    "        book_name=self.book_name.get()\n",
    "        self.book_id=book_name.split(\"-\")[0]\n",
    "        member_name=self.member_name.get()\n",
    "\n",
    "        if (book_name and member_name !=\"\"):\n",
    "            try:\n",
    "                query=\"INSERT INTO 'borrows' (bbook_id,bmember_id) VALUES(?,?)\"\n",
    "                cur.execute(query,(book_name ,member_name))\n",
    "                con.commit()\n",
    "                messagebox.showinfo(\"Success\",\"Successfully added to database\",icon='info')\n",
    "                cur.execute(\"UPDATE books SET book_status=? WHERE book_id=?\",(1,self.book_id))\n",
    "                con.commit()\n",
    "                \n",
    "            except:\n",
    "                messagebox.Showerror(\"Error\" , \"Can't add to database\",icon=\"warning\")\n",
    "        else: \n",
    "            messagebox.Showerror(\"Error\" , \"Fields cannot be empty\",icon=\"warning\")"
   ]
  },
  {
   "cell_type": "code",
   "execution_count": null,
   "id": "c5ffa318-2141-43fc-ab3d-bb3c99969a79",
   "metadata": {},
   "outputs": [],
   "source": []
  }
 ],
 "metadata": {
  "kernelspec": {
   "display_name": "Python 3 (ipykernel)",
   "language": "python",
   "name": "python3"
  },
  "language_info": {
   "codemirror_mode": {
    "name": "ipython",
    "version": 3
   },
   "file_extension": ".py",
   "mimetype": "text/x-python",
   "name": "python",
   "nbconvert_exporter": "python",
   "pygments_lexer": "ipython3",
   "version": "3.11.7"
  }
 },
 "nbformat": 4,
 "nbformat_minor": 5
}
